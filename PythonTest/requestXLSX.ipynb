{
 "cells": [
  {
   "cell_type": "code",
   "execution_count": 4,
   "metadata": {},
   "outputs": [],
   "source": [
    "import requests\n",
    "from bs4 import BeautifulSoup\n",
    "import pandas as pd"
   ]
  },
  {
   "cell_type": "code",
   "execution_count": 5,
   "metadata": {},
   "outputs": [],
   "source": [
    "url = \"https://www.ptt.cc/bbs/NBA/index.html\"  # 替换为实际的目标 URL\n",
    "headers = {'User-Agent':'Mozilla/5.0 (Windows NT 10.0; Win64; x64) AppleWebKit/537.36 (KHTML, like Gecko) Chrome/126.0.0.0 Safari/537.36'}\n",
    "response = requests.get(url,headers=headers)\n",
    "soup = BeautifulSoup(response.text,\"html.parser\")\n",
    "articles = soup.find_all('div',class_='r-ent')"
   ]
  },
  {
   "cell_type": "code",
   "execution_count": 6,
   "metadata": {},
   "outputs": [],
   "source": [
    "data_list = []\n",
    "for a in articles:\n",
    "    data = {}\n",
    "    title = a.find(\"div\",class_=\"title\")\n",
    "    popular = a.find('div',class_='nrec')\n",
    "    date = a.find('div',class_='date')\n",
    "    if title and title.a:\n",
    "        title = title.a.text\n",
    "    else:\n",
    "        title =\"沒有標題\"\n",
    "   \n",
    "    if popular and popular.span:\n",
    "        popular = popular.span.text \n",
    "    else:\n",
    "        popular = \"N/A\"\n",
    "    data['標題'] = title\n",
    "    data['人氣'] = popular    \n",
    "    data['日期'] = date.text\n",
    "    data_list.append(data)\n",
    "df=pd.DataFrame(data_list)\n",
    "df.to_excel(\"ptt_nba.xlsx\",index=False,engine=\"openpyxl\")"
   ]
  }
 ],
 "metadata": {
  "kernelspec": {
   "display_name": "Python 3",
   "language": "python",
   "name": "python3"
  },
  "language_info": {
   "codemirror_mode": {
    "name": "ipython",
    "version": 3
   },
   "file_extension": ".py",
   "mimetype": "text/x-python",
   "name": "python",
   "nbconvert_exporter": "python",
   "pygments_lexer": "ipython3",
   "version": "3.12.3"
  }
 },
 "nbformat": 4,
 "nbformat_minor": 2
}
